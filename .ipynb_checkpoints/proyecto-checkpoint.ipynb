{
 "cells": [
  {
   "cell_type": "code",
   "execution_count": 14,
   "id": "773d7b7f",
   "metadata": {},
   "outputs": [],
   "source": [
    "import numpy as np\n",
    "import random as rd"
   ]
  },
  {
   "cell_type": "code",
   "execution_count": 39,
   "id": "27adea79",
   "metadata": {},
   "outputs": [
    {
     "name": "stdout",
     "output_type": "stream",
     "text": [
      "[[2.085e+05 7.000e+00 8.560e+02 8.000e+00 2.003e+03 6.500e+01]\n",
      " [1.815e+05 6.000e+00 1.262e+03 6.000e+00 1.976e+03 8.000e+01]\n",
      " [2.235e+05 7.000e+00 9.200e+02 6.000e+00 2.001e+03 6.800e+01]\n",
      " ...\n",
      " [1.760e+05 6.000e+00 7.290e+02 5.000e+00 1.999e+03 3.400e+01]\n",
      " [1.060e+05 6.000e+00 4.830e+02 5.000e+00 1.970e+03 2.100e+01]\n",
      " [1.100e+05 5.000e+00 9.790e+02 5.000e+00 1.950e+03       nan]]\n"
     ]
    }
   ],
   "source": [
    "#Carga del data set\n",
    "data_set = np.load('./proyecto_data/proyecto_training_data.npy', 'r')\n",
    "print(data_set)"
   ]
  },
  {
   "cell_type": "code",
   "execution_count": 52,
   "id": "e8c1923f",
   "metadata": {
    "scrolled": true
   },
   "outputs": [
    {
     "name": "stdout",
     "output_type": "stream",
     "text": [
      "1460\n"
     ]
    }
   ],
   "source": [
    "#Visualización de las dimensiones del data set\n",
    "filas, columnas = data_set.shape\n",
    "\n",
    "#utilizando slicing para separar en 80% y 20% el data set\n",
    "tam_set_entrenamiento = int(filas*0.8)\n",
    "tam_set_prueba = int(filas-tam_set_entrenamiento)\n"
   ]
  },
  {
   "cell_type": "code",
   "execution_count": null,
   "id": "d1552af4",
   "metadata": {},
   "outputs": [],
   "source": []
  }
 ],
 "metadata": {
  "kernelspec": {
   "display_name": "Python 3 (ipykernel)",
   "language": "python",
   "name": "python3"
  },
  "language_info": {
   "codemirror_mode": {
    "name": "ipython",
    "version": 3
   },
   "file_extension": ".py",
   "mimetype": "text/x-python",
   "name": "python",
   "nbconvert_exporter": "python",
   "pygments_lexer": "ipython3",
   "version": "3.9.13"
  }
 },
 "nbformat": 4,
 "nbformat_minor": 5
}
